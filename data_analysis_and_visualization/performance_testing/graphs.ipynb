{
 "cells": [
  {
   "cell_type": "code",
   "execution_count": 1,
   "metadata": {},
   "outputs": [],
   "source": [
    "# Package imports\n",
    "import numpy as np                                  # \"Scientific computing\"\n",
    "import pandas as pd                                 # Dataframe\n",
    "from pandas.api.types import CategoricalDtype\n",
    "\n",
    "import scipy.stats as stats                         # Statistical tests\n",
    "from sklearn.linear_model import LinearRegression   # Linear regression model\n",
    "\n",
    "import matplotlib.pyplot as plt                     # Basic visualisation\n",
    "from statsmodels.graphics.mosaicplot import mosaic  # Mosaic plot\n",
    "import seaborn as sns                               # Advanced dataviz"
   ]
  },
  {
   "cell_type": "code",
   "execution_count": 2,
   "metadata": {},
   "outputs": [
    {
     "data": {
      "text/html": [
       "<div>\n",
       "<style scoped>\n",
       "    .dataframe tbody tr th:only-of-type {\n",
       "        vertical-align: middle;\n",
       "    }\n",
       "\n",
       "    .dataframe tbody tr th {\n",
       "        vertical-align: top;\n",
       "    }\n",
       "\n",
       "    .dataframe thead th {\n",
       "        text-align: right;\n",
       "    }\n",
       "</style>\n",
       "<table border=\"1\" class=\"dataframe\">\n",
       "  <thead>\n",
       "    <tr style=\"text-align: right;\">\n",
       "      <th></th>\n",
       "      <th>score</th>\n",
       "      <th>first-contentful-paint</th>\n",
       "      <th>largest-contentful-paint</th>\n",
       "      <th>total-blocking-time</th>\n",
       "      <th>cumulative-layout-shift</th>\n",
       "      <th>speed-index</th>\n",
       "    </tr>\n",
       "    <tr>\n",
       "      <th>id</th>\n",
       "      <th></th>\n",
       "      <th></th>\n",
       "      <th></th>\n",
       "      <th></th>\n",
       "      <th></th>\n",
       "      <th></th>\n",
       "    </tr>\n",
       "  </thead>\n",
       "  <tbody>\n",
       "    <tr>\n",
       "      <th>1</th>\n",
       "      <td>0.55</td>\n",
       "      <td>10134.778525</td>\n",
       "      <td>17317.85875</td>\n",
       "      <td>33.5</td>\n",
       "      <td>0</td>\n",
       "      <td>12745.1105</td>\n",
       "    </tr>\n",
       "    <tr>\n",
       "      <th>2</th>\n",
       "      <td>0.55</td>\n",
       "      <td>9992.625000</td>\n",
       "      <td>17091.37500</td>\n",
       "      <td>37.0</td>\n",
       "      <td>0</td>\n",
       "      <td>12081.4540</td>\n",
       "    </tr>\n",
       "    <tr>\n",
       "      <th>3</th>\n",
       "      <td>0.55</td>\n",
       "      <td>10094.199100</td>\n",
       "      <td>17292.03610</td>\n",
       "      <td>45.5</td>\n",
       "      <td>0</td>\n",
       "      <td>12563.5076</td>\n",
       "    </tr>\n",
       "    <tr>\n",
       "      <th>4</th>\n",
       "      <td>0.55</td>\n",
       "      <td>10045.097550</td>\n",
       "      <td>17218.04820</td>\n",
       "      <td>32.5</td>\n",
       "      <td>0</td>\n",
       "      <td>12104.7880</td>\n",
       "    </tr>\n",
       "    <tr>\n",
       "      <th>5</th>\n",
       "      <td>0.55</td>\n",
       "      <td>9976.889200</td>\n",
       "      <td>17097.35960</td>\n",
       "      <td>30.0</td>\n",
       "      <td>0</td>\n",
       "      <td>12004.1370</td>\n",
       "    </tr>\n",
       "  </tbody>\n",
       "</table>\n",
       "</div>"
      ],
      "text/plain": [
       "    score  first-contentful-paint  largest-contentful-paint  \\\n",
       "id                                                            \n",
       "1    0.55            10134.778525               17317.85875   \n",
       "2    0.55             9992.625000               17091.37500   \n",
       "3    0.55            10094.199100               17292.03610   \n",
       "4    0.55            10045.097550               17218.04820   \n",
       "5    0.55             9976.889200               17097.35960   \n",
       "\n",
       "    total-blocking-time  cumulative-layout-shift  speed-index  \n",
       "id                                                             \n",
       "1                  33.5                        0   12745.1105  \n",
       "2                  37.0                        0   12081.4540  \n",
       "3                  45.5                        0   12563.5076  \n",
       "4                  32.5                        0   12104.7880  \n",
       "5                  30.0                        0   12004.1370  "
      ]
     },
     "execution_count": 2,
     "metadata": {},
     "output_type": "execute_result"
    }
   ],
   "source": [
    "df = pd.read_csv(filepath_or_buffer='../data/processed/performance_testing/original/login.csv', delimiter=',', header=0, index_col=0)\n",
    "df.head()"
   ]
  },
  {
   "cell_type": "code",
   "execution_count": null,
   "metadata": {},
   "outputs": [],
   "source": [
    "figure, axes = plt.subplots(len(df.columns), 1, figsize=(10, 5*len(df.columns)))\n",
    "\n",
    "for ax, column in zip(axes, df.columns):\n",
    "    sns.histplot(data=df, x=column, bins=21, kde=True, ax=ax)\n",
    "    ax.set_title(column)\n",
    "\n",
    "plt.tight_layout()\n",
    "plt.show()\n"
   ]
  },
  {
   "cell_type": "code",
   "execution_count": 2,
   "metadata": {},
   "outputs": [
    {
     "name": "stdout",
     "output_type": "stream",
     "text": [
      "login:\n",
      "original:      [0.55, 0.54]\n",
      "cybersecurity: [0.55, 0.54, 0.53, 0.52, 0.47]\n",
      "\n",
      "places:\n",
      "original:      [0.87, 0.86, 0.85, 0.84]\n",
      "cybersecurity: [0.68, 0.67, 0.66, 0.65, 0.64, 0.63, 0.61, 0.6, 0.59, 0.57]\n",
      "\n",
      "transactions:\n",
      "original:      [0.87, 0.86, 0.85, 0.84]\n",
      "cybersecurity: [0.68, 0.67, 0.66, 0.65, 0.64, 0.62, 0.61, 0.6, 0.59, 0.58, 0.53, 0.51, 0.5]\n",
      "\n",
      "transactions-edit:\n",
      "original:      [0.87, 0.86, 0.85, 0.84, 0.82]\n",
      "cybersecurity: [0.68, 0.67, 0.66, 0.65, 0.64, 0.62, 0.61, 0.6, 0.59, 0.58, 0.57, 0.56, 0.55]\n",
      "\n"
     ]
    }
   ],
   "source": [
    "base_path = '../data/processed/performance_testing'\n",
    "tests = ['login',  'places', 'transactions', 'transactions-edit']\n",
    "\n",
    "for test in tests:\n",
    "    original = pd.read_csv(filepath_or_buffer=f'{base_path}/original/{test}.csv', delimiter=',', header=0, index_col=0)\n",
    "    cybersecurity = pd.read_csv(filepath_or_buffer=f'{base_path}/cybersecurity/{test}.csv', delimiter=',', header=0, index_col=0)\n",
    "\n",
    "    original_scores = original.score.unique()\n",
    "    cybersecurity_scores = cybersecurity.score.unique()\n",
    "\n",
    "    print(f'{test}:')\n",
    "    print(f'original:      {sorted(original_scores, reverse=True)}')\n",
    "    print(f'cybersecurity: {sorted(cybersecurity_scores, reverse=True)}\\n')"
   ]
  }
 ],
 "metadata": {
  "kernelspec": {
   "display_name": "Python 3",
   "language": "python",
   "name": "python3"
  },
  "language_info": {
   "codemirror_mode": {
    "name": "ipython",
    "version": 3
   },
   "file_extension": ".py",
   "mimetype": "text/x-python",
   "name": "python",
   "nbconvert_exporter": "python",
   "pygments_lexer": "ipython3",
   "version": "3.10.7"
  }
 },
 "nbformat": 4,
 "nbformat_minor": 2
}
